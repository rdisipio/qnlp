{
 "cells": [
  {
   "cell_type": "code",
   "execution_count": 94,
   "metadata": {},
   "outputs": [],
   "source": [
    "import argparse\n",
    "import string\n",
    "\n",
    "from sklearn.model_selection import train_test_split\n",
    "\n",
    "import torch\n",
    "from torch import nn\n",
    "from torch.autograd import Variable\n",
    "from torch.optim import SGD\n",
    "import torch.nn.functional as F\n",
    "\n",
    "import pennylane as qml"
   ]
  },
  {
   "cell_type": "code",
   "execution_count": 95,
   "metadata": {},
   "outputs": [],
   "source": [
    "class CBOW(nn.Module):\n",
    "    def __init__(self, vocab_size, embedding_size, context_size, hidden_size=512):\n",
    "        super(CBOW, self).__init__()\n",
    "        self.vocab_size = vocab_size\n",
    "        self.embedding_size = embedding_size\n",
    "        self.context_size = context_size\n",
    "        self.hidden_size = hidden_size\n",
    "        self.embeddings = nn.Embedding(self.vocab_size, self.embedding_size)\n",
    "        # return vector size will be context_size*2*embedding_size\n",
    "        self.lin1 = nn.Linear(self.context_size * 2 * self.embedding_size, self.hidden_size)\n",
    "        self.lin2 = nn.Linear(self.hidden_size, self.vocab_size)\n",
    "    \n",
    "    def forward(self, inp):\n",
    "        out = self.embeddings(inp).view(1, -1)\n",
    "        out = out.view(1, -1)\n",
    "        out = self.lin1(out)\n",
    "        out = F.relu(out)\n",
    "        out = self.lin2(out)\n",
    "        out = F.log_softmax(out, dim=1)\n",
    "        return out\n",
    "    \n",
    "    def get_word_vector(self, word_idx):\n",
    "        word = Variable(torch.LongTensor([word_idx]))\n",
    "        return self.embeddings(word).view(1, -1)"
   ]
  },
  {
   "cell_type": "code",
   "execution_count": 96,
   "metadata": {},
   "outputs": [],
   "source": [
    "n_qubits = 4\n",
    "dev = qml.device(\"default.qubit\", wires=n_qubits)\n",
    "\n",
    "@qml.qnode(dev)\n",
    "def qnode(inputs, weights):\n",
    "    qml.templates.AngleEmbedding(inputs, wires=range(n_qubits))\n",
    "    qml.templates.BasicEntanglerLayers(weights, wires=range(n_qubits))\n",
    "    return [qml.expval(qml.PauliZ(wires=i)) for i in range(n_qubits)]\n",
    "\n",
    "class QCBOW(nn.Module):\n",
    "    def __init__(self, vocab_size, embedding_size, context_size, hidden_size=512, n_qlayers=2, n_qubits=8):\n",
    "        super(QCBOW, self).__init__()\n",
    "        self.vocab_size = vocab_size\n",
    "        self.embedding_size = embedding_size\n",
    "        self.context_size = context_size\n",
    "        self.hidden_size = hidden_size\n",
    "        self.embeddings = nn.Embedding(self.vocab_size, self.embedding_size)\n",
    "        # dressed quantum layer\n",
    "        self.lin1 = nn.Linear(self.context_size * 2 * self.embedding_size, n_qubits)\n",
    "        self.weight_shapes = {\"weights\": (n_qlayers, n_qubits)}\n",
    "        self.qlayer = qml.qnn.TorchLayer(qnode, self.weight_shapes)\n",
    "        self.lin2 = nn.Linear(n_qubits, self.vocab_size)\n",
    "\n",
    "\n",
    "    def forward(self, inp):\n",
    "        out = self.embeddings(inp).view(1, -1)\n",
    "        out = out.view(1, -1)\n",
    "        out = self.lin1(out)\n",
    "        out = F.relu(out)\n",
    "        out = self.qlayer(out)\n",
    "        out = self.lin2(out)\n",
    "        out = F.log_softmax(out, dim=1)\n",
    "        return out\n",
    "    \n",
    "    def get_word_vector(self, word_idx):\n",
    "        word = Variable(torch.LongTensor([word_idx]))\n",
    "        return self.embeddings(word).view(1, -1)"
   ]
  },
  {
   "cell_type": "code",
   "execution_count": 102,
   "metadata": {},
   "outputs": [],
   "source": [
    "def train_cbow(cbow, data, unique_vocab, word_to_idx, n_epochs=20, lr=0.01):\n",
    "    \n",
    "    nll_loss = nn.NLLLoss()  # loss function\n",
    "    optimizer = SGD(cbow.parameters(), lr=lr)\n",
    "    \n",
    "    print(\"Starting model training...\")\n",
    "    \n",
    "    history = {\n",
    "        'epoch': [],\n",
    "        'loss': []\n",
    "    }\n",
    "    for iepoch in range(n_epochs):\n",
    "        total_loss = 0\n",
    "        for context, target in data:            \n",
    "            inp_var = Variable(torch.LongTensor([word_to_idx[word] for word in context]))\n",
    "            target_var = Variable(torch.LongTensor([word_to_idx[target]]))\n",
    "                        \n",
    "            cbow.zero_grad()\n",
    "            log_prob = cbow(inp_var)\n",
    "            loss = nll_loss(log_prob, target_var)\n",
    "            loss.backward()\n",
    "            optimizer.step()\n",
    "            total_loss += loss.data\n",
    "        \n",
    "        loss_avg = float(total_loss / len(data))\n",
    "        print(\"{}/{} loss {:.2f}\".format(iepoch, n_epochs, loss_avg))\n",
    "        history['loss'].append(loss_avg)\n",
    "        history['epoch'].append(iepoch)\n",
    "    return history"
   ]
  },
  {
   "cell_type": "code",
   "execution_count": 98,
   "metadata": {},
   "outputs": [],
   "source": [
    "def test_cbow(cbow, unique_vocab, word_to_idx):\n",
    "    # test word similarity\n",
    "    word_1 = unique_vocab[2]\n",
    "    word_2 = unique_vocab[3]\n",
    "    \n",
    "    word_1_vec = cbow.get_word_vector(word_to_idx[word_1])[0]\n",
    "    word_2_vec = cbow.get_word_vector(word_to_idx[word_2])[0]\n",
    "    \n",
    "    word_similarity = (word_1_vec.dot(word_2_vec) / (torch.norm(word_1_vec) * torch.norm(word_2_vec))).data.numpy()\n",
    "    print(\"Similarity between '{}' & '{}' : {:0.4f}\".format(word_1, word_2, word_similarity))"
   ]
  },
  {
   "cell_type": "code",
   "execution_count": 99,
   "metadata": {},
   "outputs": [],
   "source": [
    "corpus_text = \"This tutorial will walk you through the key ideas of deep learning programming using Pytorch.\" \\\n",
    "              \" Many of the concepts (such as the computation graph abstraction and autograd) \" \\\n",
    "              \"are not unique to Pytorch and are relevant to any deep learning tool kit out there.\""
   ]
  },
  {
   "cell_type": "code",
   "execution_count": 103,
   "metadata": {},
   "outputs": [],
   "source": [
    "def main(corpus_text, context_size, embed_dim, n_epochs=20, lr=0.01):\n",
    "    # consider 2*context_size as context window where middle word as target\n",
    "    corpus_text = corpus_text.split(' ')\n",
    "    for i in range(len(corpus_text)):\n",
    "        sentence = corpus_text[i]\n",
    "        cleaned_sentence = sentence.translate(str.maketrans('', '', string.punctuation))\n",
    "        cleaned_sentence = cleaned_sentence.lower()\n",
    "        corpus_text[i] = cleaned_sentence\n",
    "    unique_vocab = list(set(corpus_text))\n",
    "    unique_vocab = sorted(unique_vocab)\n",
    "    vocab_size = len(unique_vocab)\n",
    "    print(f\"There are {vocab_size} unique words in the vocabulary\")\n",
    "    # mapping to index\n",
    "    word_to_idx = {w: i for i, w in enumerate(unique_vocab)}\n",
    "    print(word_to_idx)\n",
    "\n",
    "    data = list()\n",
    "    for i in range(context_size, len(corpus_text) - context_size):\n",
    "        data_context = list()\n",
    "        for j in range(context_size):\n",
    "            data_context.append(corpus_text[i - context_size + j])\n",
    "        \n",
    "        for j in range(1, context_size + 1):\n",
    "            data_context.append(corpus_text[i + j])\n",
    "        data_target = corpus_text[i]\n",
    "        data.append((data_context, data_target))\n",
    " \n",
    "    print(\"Some data: \",data[:3])\n",
    "\n",
    "    train_data, test_data = train_test_split(data, test_size=0.3)\n",
    "    print(f\"Training set size: {len(train_data)}\")\n",
    "    print(f\"Test set size: {len(test_data)}\")\n",
    "    # define and train model\n",
    "    #cbow = CBOW(vocab_size, embed_dim, context_size)\n",
    "    cbow = QCBOW(vocab_size, embed_dim, context_size, n_qlayers=2, n_qubits=4)\n",
    "    history = train_cbow(cbow, train_data, unique_vocab, word_to_idx, n_epochs, lr)\n",
    "    \n",
    "    # get two words similarity\n",
    "    test_cbow(cbow, unique_vocab, word_to_idx)\n",
    "    \n",
    "    return history"
   ]
  },
  {
   "cell_type": "code",
   "execution_count": 104,
   "metadata": {},
   "outputs": [
    {
     "name": "stdout",
     "output_type": "stream",
     "text": [
      "There are 34 unique words in the vocabulary\n",
      "{'abstraction': 0, 'and': 1, 'any': 2, 'are': 3, 'as': 4, 'autograd': 5, 'computation': 6, 'concepts': 7, 'deep': 8, 'graph': 9, 'ideas': 10, 'key': 11, 'kit': 12, 'learning': 13, 'many': 14, 'not': 15, 'of': 16, 'out': 17, 'programming': 18, 'pytorch': 19, 'relevant': 20, 'such': 21, 'the': 22, 'there': 23, 'this': 24, 'through': 25, 'to': 26, 'tool': 27, 'tutorial': 28, 'unique': 29, 'using': 30, 'walk': 31, 'will': 32, 'you': 33}\n",
      "Some data:  [(['this', 'tutorial', 'will', 'you', 'through', 'the'], 'walk'), (['tutorial', 'will', 'walk', 'through', 'the', 'key'], 'you'), (['will', 'walk', 'you', 'the', 'key', 'ideas'], 'through')]\n",
      "Training set size: 25\n",
      "Test set size: 12\n",
      "Starting model training...\n",
      "0/20 loss 3.58\n",
      "1/20 loss 3.40\n",
      "2/20 loss 3.31\n",
      "3/20 loss 3.26\n",
      "4/20 loss 3.21\n",
      "5/20 loss 3.14\n",
      "6/20 loss 3.15\n",
      "7/20 loss 3.13\n",
      "8/20 loss 3.17\n",
      "9/20 loss 3.08\n",
      "10/20 loss 3.01\n",
      "11/20 loss 3.02\n",
      "12/20 loss 2.92\n",
      "13/20 loss 3.02\n",
      "14/20 loss 2.93\n",
      "15/20 loss 2.98\n",
      "16/20 loss 2.95\n",
      "17/20 loss 2.87\n",
      "18/20 loss 2.82\n",
      "19/20 loss 2.94\n",
      "Similarity between 'any' & 'are' : -0.0515\n"
     ]
    }
   ],
   "source": [
    "context_size = 3\n",
    "embed_dim = 32\n",
    "n_epochs = 20\n",
    "lr = 0.1\n",
    "history = main(corpus_text, context_size, embed_dim, n_epochs, lr=lr)"
   ]
  },
  {
   "cell_type": "code",
   "execution_count": 107,
   "metadata": {},
   "outputs": [
    {
     "data": {
      "text/plain": [
       "<matplotlib.axes._subplots.AxesSubplot at 0x1451dfb10>"
      ]
     },
     "execution_count": 107,
     "metadata": {},
     "output_type": "execute_result"
    },
    {
     "data": {
      "image/png": "[encoded data removed]",
      "text/plain": [
       "<Figure size 432x288 with 1 Axes>"
      ]
     },
     "metadata": {
      "needs_background": "light"
     },
     "output_type": "display_data"
    }
   ],
   "source": [
    "import seaborn as sns\n",
    "sns.lineplot(data=history, x='epoch', y='loss')"
   ]
  },
  {
   "cell_type": "code",
   "execution_count": null,
   "metadata": {},
   "outputs": [],
   "source": []
  }
 ],
 "metadata": {
  "kernelspec": {
   "display_name": "qml",
   "language": "python",
   "name": "qml"
  },
  "language_info": {
   "codemirror_mode": {
    "name": "ipython",
    "version": 3
   },
   "file_extension": ".py",
   "mimetype": "text/x-python",
   "name": "python",
   "nbconvert_exporter": "python",
   "pygments_lexer": "ipython3",
   "version": "3.7.7"
  }
 },
 "nbformat": 4,
 "nbformat_minor": 4
}
